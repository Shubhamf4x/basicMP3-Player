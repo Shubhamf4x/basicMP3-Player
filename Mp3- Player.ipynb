{
 "cells": [
  {
   "cell_type": "code",
   "execution_count": 1,
   "id": "74667e89",
   "metadata": {},
   "outputs": [
    {
     "name": "stdout",
     "output_type": "stream",
     "text": [
      "Requirement already satisfied: pygame in c:\\users\\shion\\anaconda3\\lib\\site-packages (2.5.2)\n",
      "Note: you may need to restart the kernel to use updated packages.\n"
     ]
    }
   ],
   "source": [
    "pip install pygame"
   ]
  },
  {
   "cell_type": "code",
   "execution_count": 1,
   "id": "859b98f6",
   "metadata": {},
   "outputs": [
    {
     "name": "stdout",
     "output_type": "stream",
     "text": [
      "pygame 2.5.2 (SDL 2.28.3, Python 3.11.5)\n",
      "Hello from the pygame community. https://www.pygame.org/contribute.html\n"
     ]
    }
   ],
   "source": [
    "import tkinter as tk\n",
    "from tkinter import filedialog\n",
    "import pygame\n",
    "\n",
    "class Mp3Player:\n",
    "    def __init__(self, root):\n",
    "        self.root = root\n",
    "        self.root.title(\"Mp3 Player\")\n",
    "        self.root.geometry(\"300x150\")\n",
    "        \n",
    "        self.playlist = []\n",
    "        self.current_song = None\n",
    "        \n",
    "        self.play_button = tk.Button(self.root, text=\"Play\", command=self.play_song)\n",
    "        self.play_button.pack(side=tk.LEFT)\n",
    "        \n",
    "        self.pause_button = tk.Button(self.root, text=\"Pause\", command=self.pause_song)\n",
    "        self.pause_button.pack(side=tk.LEFT)\n",
    "        \n",
    "        self.stop_button = tk.Button(self.root, text=\"Stop\", command=self.stop_song)\n",
    "        self.stop_button.pack(side=tk.LEFT)\n",
    "        \n",
    "        self.add_song_button = tk.Button(self.root, text=\"Add Song\", command=self.add_song)\n",
    "        self.add_song_button.pack(side=tk.LEFT)\n",
    "        \n",
    "        self.song_listbox = tk.Listbox(self.root)\n",
    "        self.song_listbox.pack(side=tk.LEFT, fill=tk.BOTH, expand=True)\n",
    "        \n",
    "    def play_song(self):\n",
    "        if self.current_song is not None:\n",
    "            pygame.mixer.music.unpause()\n",
    "        else:\n",
    "            if len(self.playlist) > 0:\n",
    "                self.current_song = self.playlist[0]\n",
    "                pygame.mixer.music.load(self.current_song)\n",
    "                pygame.mixer.music.play()\n",
    "    \n",
    "    def pause_song(self):\n",
    "        pygame.mixer.music.pause()\n",
    "    \n",
    "    def stop_song(self):\n",
    "        pygame.mixer.music.stop()\n",
    "        self.current_song = None\n",
    "    \n",
    "    def add_song(self):\n",
    "        file_path = filedialog.askopenfilename(filetypes=[(\"Mp3 Files\", \"*.mp3\")])\n",
    "        if file_path:\n",
    "            self.playlist.append(file_path)\n",
    "            self.song_listbox.insert(tk.END, file_path)\n",
    "\n",
    "if __name__ == \"__main__\":\n",
    "    pygame.mixer.init()\n",
    "    root = tk.Tk()\n",
    "    player = Mp3Player(root)\n",
    "    root.mainloop()"
   ]
  },
  {
   "cell_type": "code",
   "execution_count": null,
   "id": "cc3fdbe2",
   "metadata": {},
   "outputs": [],
   "source": []
  },
  {
   "cell_type": "code",
   "execution_count": null,
   "id": "c601f60e",
   "metadata": {},
   "outputs": [],
   "source": []
  }
 ],
 "metadata": {
  "kernelspec": {
   "display_name": "Python 3 (ipykernel)",
   "language": "python",
   "name": "python3"
  },
  "language_info": {
   "codemirror_mode": {
    "name": "ipython",
    "version": 3
   },
   "file_extension": ".py",
   "mimetype": "text/x-python",
   "name": "python",
   "nbconvert_exporter": "python",
   "pygments_lexer": "ipython3",
   "version": "3.11.5"
  }
 },
 "nbformat": 4,
 "nbformat_minor": 5
}
